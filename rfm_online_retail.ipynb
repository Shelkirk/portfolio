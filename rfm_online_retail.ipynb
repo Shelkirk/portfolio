{
 "cells": [
  {
   "cell_type": "markdown",
   "id": "173162f1-d7ac-44f3-9d63-f61a74246346",
   "metadata": {},
   "source": [
    "# RFM-анализ  \n",
    "RFM-анализ представляет собой мощный инструмент для анализа и оптимизации маркетинговых стратегий на основе изучения клиентской базы. Данный подход позволяет оценить ценность и поведение клиентов по 3 параметрам: **Recency** - давность последней активности клиента, **Frequency** - частота покупок клиента, **Monetary** - сумма потраченных денежных средств.  \n",
    "В данном ноутбуке произведен RFM-анализ покупок товаров в онлайн-ритейле с целью сегментации клиентов и проведения различных маркетинговых кампаний для разных групп покупателей."
   ]
  },
  {
   "cell_type": "markdown",
   "id": "586c6ddb-36de-4298-85d9-4d4ed9580e14",
   "metadata": {},
   "source": [
    "### Подготовка данных"
   ]
  },
  {
   "cell_type": "code",
   "execution_count": 1,
   "id": "667a1a84-5a68-4fd7-b707-81e9a716b58e",
   "metadata": {},
   "outputs": [],
   "source": [
    "# импорт необходимых библиотек\n",
    "import pandas as pd\n",
    "import numpy as np\n",
    "import sqlalchemy as sql\n",
    "import portfolio_db_cred as cred\n",
    "import keyring\n",
    "import matplotlib.pyplot as plt"
   ]
  },
  {
   "cell_type": "code",
   "execution_count": 2,
   "id": "4b4c56a0-44c1-4767-b97a-9d3f4739cf3d",
   "metadata": {},
   "outputs": [
    {
     "name": "stdout",
     "output_type": "stream",
     "text": [
      "Размер датасета: (525461, 8)\n",
      "\n",
      "<class 'pandas.core.frame.DataFrame'>\n",
      "RangeIndex: 525461 entries, 0 to 525460\n",
      "Data columns (total 8 columns):\n",
      " #   Column       Non-Null Count   Dtype  \n",
      "---  ------       --------------   -----  \n",
      " 0   Invoice      525461 non-null  object \n",
      " 1   StockCode    525461 non-null  object \n",
      " 2   Description  522533 non-null  object \n",
      " 3   Quantity     525461 non-null  int64  \n",
      " 4   InvoiceDate  525461 non-null  object \n",
      " 5   Price        525461 non-null  float64\n",
      " 6   Customer ID  417534 non-null  float64\n",
      " 7   Country      525461 non-null  object \n",
      "dtypes: float64(2), int64(1), object(5)\n",
      "memory usage: 32.1+ MB\n",
      "None\n",
      "\n"
     ]
    },
    {
     "data": {
      "text/html": [
       "<div>\n",
       "<style scoped>\n",
       "    .dataframe tbody tr th:only-of-type {\n",
       "        vertical-align: middle;\n",
       "    }\n",
       "\n",
       "    .dataframe tbody tr th {\n",
       "        vertical-align: top;\n",
       "    }\n",
       "\n",
       "    .dataframe thead th {\n",
       "        text-align: right;\n",
       "    }\n",
       "</style>\n",
       "<table border=\"1\" class=\"dataframe\">\n",
       "  <thead>\n",
       "    <tr style=\"text-align: right;\">\n",
       "      <th></th>\n",
       "      <th>Invoice</th>\n",
       "      <th>StockCode</th>\n",
       "      <th>Description</th>\n",
       "      <th>Quantity</th>\n",
       "      <th>InvoiceDate</th>\n",
       "      <th>Price</th>\n",
       "      <th>Customer ID</th>\n",
       "      <th>Country</th>\n",
       "    </tr>\n",
       "  </thead>\n",
       "  <tbody>\n",
       "    <tr>\n",
       "      <th>15825</th>\n",
       "      <td>490709</td>\n",
       "      <td>21327</td>\n",
       "      <td>SKULLS WRITING SET</td>\n",
       "      <td>1</td>\n",
       "      <td>12/7/2009 15:15</td>\n",
       "      <td>1.65</td>\n",
       "      <td>17884.0</td>\n",
       "      <td>United Kingdom</td>\n",
       "    </tr>\n",
       "    <tr>\n",
       "      <th>482773</th>\n",
       "      <td>534656</td>\n",
       "      <td>21671</td>\n",
       "      <td>RED SPOT CERAMIC DRAWER KNOB</td>\n",
       "      <td>6</td>\n",
       "      <td>11/23/2010 13:36</td>\n",
       "      <td>1.25</td>\n",
       "      <td>13869.0</td>\n",
       "      <td>United Kingdom</td>\n",
       "    </tr>\n",
       "    <tr>\n",
       "      <th>188635</th>\n",
       "      <td>507290</td>\n",
       "      <td>21977</td>\n",
       "      <td>PACK OF 60 PINK PAISLEY CAKE CASES</td>\n",
       "      <td>1</td>\n",
       "      <td>5/7/2010 14:10</td>\n",
       "      <td>0.55</td>\n",
       "      <td>14814.0</td>\n",
       "      <td>United Kingdom</td>\n",
       "    </tr>\n",
       "    <tr>\n",
       "      <th>79961</th>\n",
       "      <td>496651</td>\n",
       "      <td>47567B</td>\n",
       "      <td>TEA TIME KITCHEN APRON</td>\n",
       "      <td>1</td>\n",
       "      <td>2/3/2010 12:21</td>\n",
       "      <td>5.95</td>\n",
       "      <td>13553.0</td>\n",
       "      <td>United Kingdom</td>\n",
       "    </tr>\n",
       "    <tr>\n",
       "      <th>351987</th>\n",
       "      <td>523638</td>\n",
       "      <td>21906</td>\n",
       "      <td>PHARMACIE FIRST AID TIN</td>\n",
       "      <td>4</td>\n",
       "      <td>9/23/2010 12:01</td>\n",
       "      <td>6.75</td>\n",
       "      <td>13097.0</td>\n",
       "      <td>United Kingdom</td>\n",
       "    </tr>\n",
       "  </tbody>\n",
       "</table>\n",
       "</div>"
      ],
      "text/plain": [
       "       Invoice StockCode                         Description  Quantity  \\\n",
       "15825   490709     21327                 SKULLS WRITING SET          1   \n",
       "482773  534656     21671        RED SPOT CERAMIC DRAWER KNOB         6   \n",
       "188635  507290     21977  PACK OF 60 PINK PAISLEY CAKE CASES         1   \n",
       "79961   496651    47567B              TEA TIME KITCHEN APRON         1   \n",
       "351987  523638     21906             PHARMACIE FIRST AID TIN         4   \n",
       "\n",
       "             InvoiceDate  Price  Customer ID         Country  \n",
       "15825    12/7/2009 15:15   1.65      17884.0  United Kingdom  \n",
       "482773  11/23/2010 13:36   1.25      13869.0  United Kingdom  \n",
       "188635    5/7/2010 14:10   0.55      14814.0  United Kingdom  \n",
       "79961     2/3/2010 12:21   5.95      13553.0  United Kingdom  \n",
       "351987   9/23/2010 12:01   6.75      13097.0  United Kingdom  "
      ]
     },
     "execution_count": 2,
     "metadata": {},
     "output_type": "execute_result"
    }
   ],
   "source": [
    "# Загрузка датасета, первое представление о датасете\n",
    "db_password = keyring.get_password('portfolio_db', cred.user)\n",
    "con = sql.create_engine(f'postgresql+psycopg2://{cred.user}:{db_password}@{cred.host}:{cred.port}/postgres')\n",
    "df = pd.read_sql('SELECT * FROM rfm_retail_data', con)\n",
    "print(f'Размер датасета: {df.shape}', end='\\n\\n')\n",
    "print(df.info(), end='\\n\\n')\n",
    "df.sample(5)"
   ]
  },
  {
   "cell_type": "markdown",
   "id": "d2aed0d5-2db0-4151-9b10-f05f3e6525fc",
   "metadata": {},
   "source": [
    "#### Описание полей:\n",
    "* 0 - Invoice - уникальный ID заказа\n",
    "* 1 - StockCode - укникальный ID товара\n",
    "* 2 - Description - описание товара\n",
    "* 3 - Quantity - количество\n",
    "* 4 - InvoiceDate - дата создания заказа \n",
    "* 5 - Price - цена одной единицы товара\n",
    "* 6 - Customer ID - уникальный ID клиента\n",
    "* 7 - Country - страна проживания клиента"
   ]
  },
  {
   "cell_type": "code",
   "execution_count": 3,
   "id": "116f2e09-ded3-4e0a-af14-70dbb74a8523",
   "metadata": {},
   "outputs": [
    {
     "data": {
      "text/plain": [
       "Invoice        0.000000\n",
       "StockCode      0.000000\n",
       "Description    0.005572\n",
       "Quantity       0.000000\n",
       "InvoiceDate    0.000000\n",
       "Price          0.000000\n",
       "Customer ID    0.205395\n",
       "Country        0.000000\n",
       "dtype: float64"
      ]
     },
     "execution_count": 3,
     "metadata": {},
     "output_type": "execute_result"
    }
   ],
   "source": [
    "# Проверяем пропуски в % от общего числа строк\n",
    "# при необходимости - обрабатываем пропуски\n",
    "df.isna().mean() "
   ]
  },
  {
   "cell_type": "markdown",
   "id": "a10e0611-8c23-4033-a488-4ab8ca4dd824",
   "metadata": {},
   "source": [
    "Пропуски обнаружены в полях описания и ID клиента. Пропуски в ID клиента критичны для проведения RFM-анализа. Исключим данные строки. Следует поставить задачу на предотвращение и обработку пропусков."
   ]
  },
  {
   "cell_type": "code",
   "execution_count": 4,
   "id": "7c3dfd2e-57a4-4c85-9309-5cf2bfdcfeff",
   "metadata": {},
   "outputs": [],
   "source": [
    "# Убираем пропуски фильтрацией\n",
    "df = df[~df['Customer ID'].isna()]"
   ]
  },
  {
   "cell_type": "code",
   "execution_count": 5,
   "id": "7bc31ac8-543d-4480-9012-5dc63d0ef09f",
   "metadata": {},
   "outputs": [],
   "source": [
    "# Особенности датасета: исключаем отмененные заказы (ID заказа начинается с \"С\")\n",
    "df = df[~df['Invoice'].str.startswith('C')]"
   ]
  },
  {
   "cell_type": "code",
   "execution_count": 6,
   "id": "e01686b6-ccf8-463a-bab7-32816c05f398",
   "metadata": {},
   "outputs": [
    {
     "data": {
      "text/plain": [
       "(6748, 8)"
      ]
     },
     "execution_count": 6,
     "metadata": {},
     "output_type": "execute_result"
    }
   ],
   "source": [
    "# Проверяем дубликаты\n",
    "df[df.duplicated()].shape"
   ]
  },
  {
   "cell_type": "markdown",
   "id": "8ff8e6af-94e3-43e8-9378-dd2cb3ff5955",
   "metadata": {},
   "source": [
    "Обнаружены дубликаты записей, следует очистить."
   ]
  },
  {
   "cell_type": "code",
   "execution_count": 7,
   "id": "c54bd11e-9a91-4a77-b570-5d6b829f7d87",
   "metadata": {},
   "outputs": [],
   "source": [
    "# Удаляем дубликаты\n",
    "df = df.drop_duplicates()"
   ]
  },
  {
   "cell_type": "code",
   "execution_count": 8,
   "id": "cc0c94df-0a5a-4282-a9c9-673f4db34740",
   "metadata": {},
   "outputs": [
    {
     "name": "stdout",
     "output_type": "stream",
     "text": [
      "Wrong date: 0\n"
     ]
    }
   ],
   "source": [
    "# Преобразуем дату размещения заказа в надлежащий формат\n",
    "# установлен американский формат даты, пропускаем параметр dayfirst\n",
    "df['InvoiceDate'] = pd.to_datetime(df['InvoiceDate'], errors='coerce')\n",
    "\n",
    "# Проверяем количество ошибочных значений в поле \"дата заказа\"\n",
    "print(f\"Wrong date: {df['InvoiceDate'].isnull().sum()}\")"
   ]
  },
  {
   "cell_type": "code",
   "execution_count": 9,
   "id": "496d5285-4e84-404a-a3cc-2e5d84622fa8",
   "metadata": {},
   "outputs": [],
   "source": [
    "# Преобразуем ID пользователя в строку, удаляем некорректные символы\n",
    "df['Customer ID'] = df['Customer ID'].astype(str)\n",
    "df['Customer ID'] = df['Customer ID'].str.rstrip('.0')"
   ]
  },
  {
   "cell_type": "code",
   "execution_count": 10,
   "id": "b1fe483d-fadd-427f-973b-73b47ac4b7ed",
   "metadata": {},
   "outputs": [
    {
     "data": {
      "text/plain": [
       "Invoice                object\n",
       "StockCode              object\n",
       "Description            object\n",
       "Quantity                int64\n",
       "InvoiceDate    datetime64[ns]\n",
       "Price                 float64\n",
       "Customer ID            object\n",
       "Country                object\n",
       "dtype: object"
      ]
     },
     "execution_count": 10,
     "metadata": {},
     "output_type": "execute_result"
    }
   ],
   "source": [
    "df.dtypes"
   ]
  },
  {
   "cell_type": "code",
   "execution_count": 11,
   "id": "b96694fd-f20d-4dac-9be3-b626885fa66e",
   "metadata": {},
   "outputs": [
    {
     "data": {
      "text/html": [
       "<div>\n",
       "<style scoped>\n",
       "    .dataframe tbody tr th:only-of-type {\n",
       "        vertical-align: middle;\n",
       "    }\n",
       "\n",
       "    .dataframe tbody tr th {\n",
       "        vertical-align: top;\n",
       "    }\n",
       "\n",
       "    .dataframe thead th {\n",
       "        text-align: right;\n",
       "    }\n",
       "</style>\n",
       "<table border=\"1\" class=\"dataframe\">\n",
       "  <thead>\n",
       "    <tr style=\"text-align: right;\">\n",
       "      <th></th>\n",
       "      <th>Quantity</th>\n",
       "      <th>InvoiceDate</th>\n",
       "      <th>Price</th>\n",
       "    </tr>\n",
       "  </thead>\n",
       "  <tbody>\n",
       "    <tr>\n",
       "      <th>count</th>\n",
       "      <td>400947.000000</td>\n",
       "      <td>400947</td>\n",
       "      <td>400947.000000</td>\n",
       "    </tr>\n",
       "    <tr>\n",
       "      <th>mean</th>\n",
       "      <td>13.768523</td>\n",
       "      <td>2010-07-01 04:56:11.466452992</td>\n",
       "      <td>3.305571</td>\n",
       "    </tr>\n",
       "    <tr>\n",
       "      <th>min</th>\n",
       "      <td>1.000000</td>\n",
       "      <td>2009-12-01 07:45:00</td>\n",
       "      <td>0.000000</td>\n",
       "    </tr>\n",
       "    <tr>\n",
       "      <th>25%</th>\n",
       "      <td>2.000000</td>\n",
       "      <td>2010-03-26 13:13:00</td>\n",
       "      <td>1.250000</td>\n",
       "    </tr>\n",
       "    <tr>\n",
       "      <th>50%</th>\n",
       "      <td>5.000000</td>\n",
       "      <td>2010-07-09 10:26:00</td>\n",
       "      <td>1.950000</td>\n",
       "    </tr>\n",
       "    <tr>\n",
       "      <th>75%</th>\n",
       "      <td>12.000000</td>\n",
       "      <td>2010-10-14 13:57:00</td>\n",
       "      <td>3.750000</td>\n",
       "    </tr>\n",
       "    <tr>\n",
       "      <th>max</th>\n",
       "      <td>19152.000000</td>\n",
       "      <td>2010-12-09 20:01:00</td>\n",
       "      <td>10953.500000</td>\n",
       "    </tr>\n",
       "    <tr>\n",
       "      <th>std</th>\n",
       "      <td>97.639816</td>\n",
       "      <td>NaN</td>\n",
       "      <td>35.046376</td>\n",
       "    </tr>\n",
       "  </tbody>\n",
       "</table>\n",
       "</div>"
      ],
      "text/plain": [
       "            Quantity                    InvoiceDate          Price\n",
       "count  400947.000000                         400947  400947.000000\n",
       "mean       13.768523  2010-07-01 04:56:11.466452992       3.305571\n",
       "min         1.000000            2009-12-01 07:45:00       0.000000\n",
       "25%         2.000000            2010-03-26 13:13:00       1.250000\n",
       "50%         5.000000            2010-07-09 10:26:00       1.950000\n",
       "75%        12.000000            2010-10-14 13:57:00       3.750000\n",
       "max     19152.000000            2010-12-09 20:01:00   10953.500000\n",
       "std        97.639816                            NaN      35.046376"
      ]
     },
     "execution_count": 11,
     "metadata": {},
     "output_type": "execute_result"
    }
   ],
   "source": [
    "# Посмотрим описательную статистику\n",
    "df.describe()"
   ]
  },
  {
   "cell_type": "code",
   "execution_count": 12,
   "id": "8db77a30-b344-4121-ab91-0c5c19cea84e",
   "metadata": {},
   "outputs": [
    {
     "name": "stdout",
     "output_type": "stream",
     "text": [
      "Количество заказов без учета отмененных, дубликатов, пропусков ID клиента: 400947\n"
     ]
    }
   ],
   "source": [
    "print(f'Количество заказов без учета отмененных, дубликатов, пропусков ID клиента: {df.shape[0]}')"
   ]
  },
  {
   "cell_type": "code",
   "execution_count": 13,
   "id": "cd348b90-4e5b-47ba-b042-855a1be7805c",
   "metadata": {},
   "outputs": [
    {
     "data": {
      "text/html": [
       "<div>\n",
       "<style scoped>\n",
       "    .dataframe tbody tr th:only-of-type {\n",
       "        vertical-align: middle;\n",
       "    }\n",
       "\n",
       "    .dataframe tbody tr th {\n",
       "        vertical-align: top;\n",
       "    }\n",
       "\n",
       "    .dataframe thead th {\n",
       "        text-align: right;\n",
       "    }\n",
       "</style>\n",
       "<table border=\"1\" class=\"dataframe\">\n",
       "  <thead>\n",
       "    <tr style=\"text-align: right;\">\n",
       "      <th></th>\n",
       "      <th>Invoice</th>\n",
       "      <th>StockCode</th>\n",
       "      <th>Description</th>\n",
       "      <th>Quantity</th>\n",
       "      <th>InvoiceDate</th>\n",
       "      <th>Price</th>\n",
       "      <th>Customer ID</th>\n",
       "      <th>Country</th>\n",
       "      <th>Sales</th>\n",
       "    </tr>\n",
       "  </thead>\n",
       "  <tbody>\n",
       "    <tr>\n",
       "      <th>252338</th>\n",
       "      <td>513747</td>\n",
       "      <td>84077</td>\n",
       "      <td>WORLD WAR 2 GLIDERS ASSTD DESIGNS</td>\n",
       "      <td>48</td>\n",
       "      <td>2010-06-28 12:27:00</td>\n",
       "      <td>0.21</td>\n",
       "      <td>16571</td>\n",
       "      <td>United Kingdom</td>\n",
       "      <td>10.08</td>\n",
       "    </tr>\n",
       "    <tr>\n",
       "      <th>481965</th>\n",
       "      <td>534524</td>\n",
       "      <td>47590A</td>\n",
       "      <td>BLUE HAPPY BIRTHDAY BUNTING</td>\n",
       "      <td>3</td>\n",
       "      <td>2010-11-23 12:03:00</td>\n",
       "      <td>5.45</td>\n",
       "      <td>16155</td>\n",
       "      <td>United Kingdom</td>\n",
       "      <td>16.35</td>\n",
       "    </tr>\n",
       "    <tr>\n",
       "      <th>78244</th>\n",
       "      <td>496502</td>\n",
       "      <td>35004C</td>\n",
       "      <td>SET OF 3 COLOURED  FLYING DUCKS</td>\n",
       "      <td>3</td>\n",
       "      <td>2010-02-02 09:39:00</td>\n",
       "      <td>5.45</td>\n",
       "      <td>17146</td>\n",
       "      <td>United Kingdom</td>\n",
       "      <td>16.35</td>\n",
       "    </tr>\n",
       "    <tr>\n",
       "      <th>373474</th>\n",
       "      <td>525443</td>\n",
       "      <td>21877</td>\n",
       "      <td>HOME SWEET HOME MUG</td>\n",
       "      <td>4</td>\n",
       "      <td>2010-10-05 13:48:00</td>\n",
       "      <td>1.25</td>\n",
       "      <td>14085</td>\n",
       "      <td>United Kingdom</td>\n",
       "      <td>5.00</td>\n",
       "    </tr>\n",
       "    <tr>\n",
       "      <th>77474</th>\n",
       "      <td>496444</td>\n",
       "      <td>22262</td>\n",
       "      <td>FELT EGG COSY CHICKEN</td>\n",
       "      <td>6</td>\n",
       "      <td>2010-02-01 13:52:00</td>\n",
       "      <td>0.85</td>\n",
       "      <td>15311</td>\n",
       "      <td>United Kingdom</td>\n",
       "      <td>5.10</td>\n",
       "    </tr>\n",
       "  </tbody>\n",
       "</table>\n",
       "</div>"
      ],
      "text/plain": [
       "       Invoice StockCode                        Description  Quantity  \\\n",
       "252338  513747     84077  WORLD WAR 2 GLIDERS ASSTD DESIGNS        48   \n",
       "481965  534524    47590A        BLUE HAPPY BIRTHDAY BUNTING         3   \n",
       "78244   496502    35004C    SET OF 3 COLOURED  FLYING DUCKS         3   \n",
       "373474  525443     21877                HOME SWEET HOME MUG         4   \n",
       "77474   496444     22262              FELT EGG COSY CHICKEN         6   \n",
       "\n",
       "               InvoiceDate  Price Customer ID         Country  Sales  \n",
       "252338 2010-06-28 12:27:00   0.21       16571  United Kingdom  10.08  \n",
       "481965 2010-11-23 12:03:00   5.45       16155  United Kingdom  16.35  \n",
       "78244  2010-02-02 09:39:00   5.45       17146  United Kingdom  16.35  \n",
       "373474 2010-10-05 13:48:00   1.25       14085  United Kingdom   5.00  \n",
       "77474  2010-02-01 13:52:00   0.85       15311  United Kingdom   5.10  "
      ]
     },
     "execution_count": 13,
     "metadata": {},
     "output_type": "execute_result"
    }
   ],
   "source": [
    "# добавим поле стоимости заказа: количество * цена\n",
    "df['Sales'] = df['Quantity'] * df['Price']\n",
    "df.sample(5)"
   ]
  },
  {
   "cell_type": "markdown",
   "id": "0880ba10-371f-4609-85e2-387585837444",
   "metadata": {},
   "source": [
    "# Приступаем к RFM-анализу"
   ]
  },
  {
   "cell_type": "code",
   "execution_count": 14,
   "id": "c8a38223-faa1-4089-9ce5-551be23bc176",
   "metadata": {},
   "outputs": [
    {
     "name": "stdout",
     "output_type": "stream",
     "text": [
      "Shape: (400947, 4)\n",
      "\n",
      "       Customer ID Invoice  Sales         InvoiceDate\n",
      "520947       16385  537792   11.8 2010-12-08 12:56:00\n",
      "485796       16794  534814    2.5 2010-11-24 12:45:00\n",
      "212949       18242  510049   30.0 2010-05-27 09:08:00\n",
      "503867       17377  536500    7.9 2010-12-01 12:35:00\n",
      "82896        13694  496994  165.0 2010-02-05 11:32:00\n"
     ]
    }
   ],
   "source": [
    "# Оставляем только нужные поля\n",
    "df_rfm = df[['Customer ID', 'Invoice', 'Sales', 'InvoiceDate']].copy()\n",
    "print(f'Shape: {df_rfm.shape}', end='\\n\\n')\n",
    "print(df_rfm.sample(5))"
   ]
  },
  {
   "cell_type": "code",
   "execution_count": 15,
   "id": "3162a878-0bb8-4e82-8509-6dc2e55ae2c4",
   "metadata": {},
   "outputs": [
    {
     "name": "stdout",
     "output_type": "stream",
     "text": [
      "Максимальная дата заказа: 2010-12-09 20:01:00\n"
     ]
    }
   ],
   "source": [
    "# Находим максимальную дату\n",
    "max_order_date = df_rfm['InvoiceDate'].max()\n",
    "print(f'Максимальная дата заказа: {max_order_date}')\n",
    "\n",
    "# Указанная дата будет служить отправной датой для RFM-анализа, т.к. мы предполагаем, \n",
    "# что анализ производится во время текущей деятельности организации\n"
   ]
  },
  {
   "cell_type": "code",
   "execution_count": 16,
   "id": "f5637bb2-4d61-4bf0-9de2-ee1340d3532e",
   "metadata": {},
   "outputs": [
    {
     "name": "stdout",
     "output_type": "stream",
     "text": [
      "Размер RFM таблицы: (4314, 3)\n",
      "Случайная выборка:\n",
      "             Recency  Frequency  Monetary\n",
      "Customer ID                              \n",
      "14168             55          2    370.45\n",
      "15991            169          1    150.55\n",
      "15465              4         15   5281.53\n",
      "18009            177          7   1896.84\n",
      "13965            111          3    996.61\n"
     ]
    }
   ],
   "source": [
    "# Группируем подготовленный датасет по ID клиента\n",
    "rfm_result = df_rfm.groupby('Customer ID').agg({\n",
    "                                                'InvoiceDate': lambda x: (max_order_date - x.max()).days, # Recency\n",
    "                                                'Invoice': lambda x: len(x.unique()), # Frequency\n",
    "                                                'Sales': 'sum' # Monetary\n",
    "                                                })\n",
    "rfm_result.rename(columns={\n",
    "                        'InvoiceDate': 'Recency',\n",
    "                        'Invoice': 'Frequency',\n",
    "                        'Sales': 'Monetary'\n",
    "                          }, inplace=True)\n",
    "print(f'Размер RFM таблицы: {rfm_result.shape}')\n",
    "print('Случайная выборка:', rfm_result.sample(5), sep='\\n')"
   ]
  },
  {
   "cell_type": "code",
   "execution_count": 17,
   "id": "955d983a-71f2-4227-9730-76a7742d4683",
   "metadata": {},
   "outputs": [
    {
     "data": {
      "text/html": [
       "<div>\n",
       "<style scoped>\n",
       "    .dataframe tbody tr th:only-of-type {\n",
       "        vertical-align: middle;\n",
       "    }\n",
       "\n",
       "    .dataframe tbody tr th {\n",
       "        vertical-align: top;\n",
       "    }\n",
       "\n",
       "    .dataframe thead th {\n",
       "        text-align: right;\n",
       "    }\n",
       "</style>\n",
       "<table border=\"1\" class=\"dataframe\">\n",
       "  <thead>\n",
       "    <tr style=\"text-align: right;\">\n",
       "      <th></th>\n",
       "      <th>Recency</th>\n",
       "      <th>Frequency</th>\n",
       "      <th>Monetary</th>\n",
       "    </tr>\n",
       "  </thead>\n",
       "  <tbody>\n",
       "    <tr>\n",
       "      <th>count</th>\n",
       "      <td>4314.000000</td>\n",
       "      <td>4314.000000</td>\n",
       "      <td>4314.000000</td>\n",
       "    </tr>\n",
       "    <tr>\n",
       "      <th>mean</th>\n",
       "      <td>90.269124</td>\n",
       "      <td>4.454103</td>\n",
       "      <td>2039.460766</td>\n",
       "    </tr>\n",
       "    <tr>\n",
       "      <th>std</th>\n",
       "      <td>96.943482</td>\n",
       "      <td>8.168658</td>\n",
       "      <td>8909.797773</td>\n",
       "    </tr>\n",
       "    <tr>\n",
       "      <th>min</th>\n",
       "      <td>0.000000</td>\n",
       "      <td>1.000000</td>\n",
       "      <td>0.000000</td>\n",
       "    </tr>\n",
       "    <tr>\n",
       "      <th>25%</th>\n",
       "      <td>17.000000</td>\n",
       "      <td>1.000000</td>\n",
       "      <td>307.105000</td>\n",
       "    </tr>\n",
       "    <tr>\n",
       "      <th>50%</th>\n",
       "      <td>52.000000</td>\n",
       "      <td>2.000000</td>\n",
       "      <td>700.405000</td>\n",
       "    </tr>\n",
       "    <tr>\n",
       "      <th>75%</th>\n",
       "      <td>135.000000</td>\n",
       "      <td>5.000000</td>\n",
       "      <td>1713.297500</td>\n",
       "    </tr>\n",
       "    <tr>\n",
       "      <th>max</th>\n",
       "      <td>373.000000</td>\n",
       "      <td>205.000000</td>\n",
       "      <td>349164.350000</td>\n",
       "    </tr>\n",
       "  </tbody>\n",
       "</table>\n",
       "</div>"
      ],
      "text/plain": [
       "           Recency    Frequency       Monetary\n",
       "count  4314.000000  4314.000000    4314.000000\n",
       "mean     90.269124     4.454103    2039.460766\n",
       "std      96.943482     8.168658    8909.797773\n",
       "min       0.000000     1.000000       0.000000\n",
       "25%      17.000000     1.000000     307.105000\n",
       "50%      52.000000     2.000000     700.405000\n",
       "75%     135.000000     5.000000    1713.297500\n",
       "max     373.000000   205.000000  349164.350000"
      ]
     },
     "execution_count": 17,
     "metadata": {},
     "output_type": "execute_result"
    }
   ],
   "source": [
    "# Ознакомимся с описательной статистикой\n",
    "rfm_result.describe()"
   ]
  },
  {
   "cell_type": "code",
   "execution_count": 18,
   "id": "b5d15a59-b862-4d19-89ae-0a78e06a821a",
   "metadata": {},
   "outputs": [],
   "source": [
    "# Выделяем квартили, формируем RFM\n",
    "rfm_result[\"recency_score\"] = pd.qcut(rfm_result['Recency'], 3, labels=[3, 2, 1])\n",
    "\n",
    "rfm_result[\"frequency_score\"] = pd.qcut(rfm_result['Frequency'].rank(method=\"first\"), 3, labels=[1, 2, 3])\n",
    "\n",
    "rfm_result[\"monetary_score\"] = pd.qcut(rfm_result['Monetary'], 3, labels=[1, 2, 3])\n",
    "\n",
    "rfm_result[\"RFM_score\"] = (rfm_result['recency_score'].astype(str) +\n",
    "                    rfm_result['frequency_score'].astype(str) +\n",
    "                    rfm_result['monetary_score'].astype(str)\n",
    "                   )"
   ]
  },
  {
   "cell_type": "code",
   "execution_count": 19,
   "id": "a2b62f9e-626d-4e4c-985f-7618c4e4a3cd",
   "metadata": {},
   "outputs": [
    {
     "data": {
      "text/html": [
       "<div>\n",
       "<style scoped>\n",
       "    .dataframe tbody tr th:only-of-type {\n",
       "        vertical-align: middle;\n",
       "    }\n",
       "\n",
       "    .dataframe tbody tr th {\n",
       "        vertical-align: top;\n",
       "    }\n",
       "\n",
       "    .dataframe thead th {\n",
       "        text-align: right;\n",
       "    }\n",
       "</style>\n",
       "<table border=\"1\" class=\"dataframe\">\n",
       "  <thead>\n",
       "    <tr style=\"text-align: right;\">\n",
       "      <th></th>\n",
       "      <th>Recency</th>\n",
       "      <th>Frequency</th>\n",
       "      <th>Monetary</th>\n",
       "      <th>recency_score</th>\n",
       "      <th>frequency_score</th>\n",
       "      <th>monetary_score</th>\n",
       "      <th>RFM_score</th>\n",
       "    </tr>\n",
       "    <tr>\n",
       "      <th>Customer ID</th>\n",
       "      <th></th>\n",
       "      <th></th>\n",
       "      <th></th>\n",
       "      <th></th>\n",
       "      <th></th>\n",
       "      <th></th>\n",
       "      <th></th>\n",
       "    </tr>\n",
       "  </thead>\n",
       "  <tbody>\n",
       "    <tr>\n",
       "      <th>18287</th>\n",
       "      <td>17</td>\n",
       "      <td>4</td>\n",
       "      <td>2345.71</td>\n",
       "      <td>3</td>\n",
       "      <td>3</td>\n",
       "      <td>3</td>\n",
       "      <td>333</td>\n",
       "    </tr>\n",
       "    <tr>\n",
       "      <th>1323</th>\n",
       "      <td>0</td>\n",
       "      <td>17</td>\n",
       "      <td>3457.83</td>\n",
       "      <td>3</td>\n",
       "      <td>3</td>\n",
       "      <td>3</td>\n",
       "      <td>333</td>\n",
       "    </tr>\n",
       "    <tr>\n",
       "      <th>15793</th>\n",
       "      <td>13</td>\n",
       "      <td>5</td>\n",
       "      <td>1433.96</td>\n",
       "      <td>3</td>\n",
       "      <td>3</td>\n",
       "      <td>3</td>\n",
       "      <td>333</td>\n",
       "    </tr>\n",
       "    <tr>\n",
       "      <th>15785</th>\n",
       "      <td>14</td>\n",
       "      <td>11</td>\n",
       "      <td>3640.96</td>\n",
       "      <td>3</td>\n",
       "      <td>3</td>\n",
       "      <td>3</td>\n",
       "      <td>333</td>\n",
       "    </tr>\n",
       "    <tr>\n",
       "      <th>15769</th>\n",
       "      <td>6</td>\n",
       "      <td>21</td>\n",
       "      <td>32451.60</td>\n",
       "      <td>3</td>\n",
       "      <td>3</td>\n",
       "      <td>3</td>\n",
       "      <td>333</td>\n",
       "    </tr>\n",
       "    <tr>\n",
       "      <th>...</th>\n",
       "      <td>...</td>\n",
       "      <td>...</td>\n",
       "      <td>...</td>\n",
       "      <td>...</td>\n",
       "      <td>...</td>\n",
       "      <td>...</td>\n",
       "      <td>...</td>\n",
       "    </tr>\n",
       "    <tr>\n",
       "      <th>15293</th>\n",
       "      <td>300</td>\n",
       "      <td>1</td>\n",
       "      <td>247.50</td>\n",
       "      <td>1</td>\n",
       "      <td>1</td>\n",
       "      <td>1</td>\n",
       "      <td>111</td>\n",
       "    </tr>\n",
       "    <tr>\n",
       "      <th>12771</th>\n",
       "      <td>120</td>\n",
       "      <td>1</td>\n",
       "      <td>282.30</td>\n",
       "      <td>1</td>\n",
       "      <td>1</td>\n",
       "      <td>1</td>\n",
       "      <td>111</td>\n",
       "    </tr>\n",
       "    <tr>\n",
       "      <th>17336</th>\n",
       "      <td>107</td>\n",
       "      <td>1</td>\n",
       "      <td>81.12</td>\n",
       "      <td>1</td>\n",
       "      <td>1</td>\n",
       "      <td>1</td>\n",
       "      <td>111</td>\n",
       "    </tr>\n",
       "    <tr>\n",
       "      <th>13469</th>\n",
       "      <td>288</td>\n",
       "      <td>1</td>\n",
       "      <td>82.40</td>\n",
       "      <td>1</td>\n",
       "      <td>1</td>\n",
       "      <td>1</td>\n",
       "      <td>111</td>\n",
       "    </tr>\n",
       "    <tr>\n",
       "      <th>13944</th>\n",
       "      <td>288</td>\n",
       "      <td>1</td>\n",
       "      <td>200.43</td>\n",
       "      <td>1</td>\n",
       "      <td>1</td>\n",
       "      <td>1</td>\n",
       "      <td>111</td>\n",
       "    </tr>\n",
       "  </tbody>\n",
       "</table>\n",
       "<p>4314 rows × 7 columns</p>\n",
       "</div>"
      ],
      "text/plain": [
       "             Recency  Frequency  Monetary recency_score frequency_score  \\\n",
       "Customer ID                                                               \n",
       "18287             17          4   2345.71             3               3   \n",
       "1323               0         17   3457.83             3               3   \n",
       "15793             13          5   1433.96             3               3   \n",
       "15785             14         11   3640.96             3               3   \n",
       "15769              6         21  32451.60             3               3   \n",
       "...              ...        ...       ...           ...             ...   \n",
       "15293            300          1    247.50             1               1   \n",
       "12771            120          1    282.30             1               1   \n",
       "17336            107          1     81.12             1               1   \n",
       "13469            288          1     82.40             1               1   \n",
       "13944            288          1    200.43             1               1   \n",
       "\n",
       "            monetary_score RFM_score  \n",
       "Customer ID                           \n",
       "18287                    3       333  \n",
       "1323                     3       333  \n",
       "15793                    3       333  \n",
       "15785                    3       333  \n",
       "15769                    3       333  \n",
       "...                    ...       ...  \n",
       "15293                    1       111  \n",
       "12771                    1       111  \n",
       "17336                    1       111  \n",
       "13469                    1       111  \n",
       "13944                    1       111  \n",
       "\n",
       "[4314 rows x 7 columns]"
      ]
     },
     "execution_count": 19,
     "metadata": {},
     "output_type": "execute_result"
    }
   ],
   "source": [
    "rfm_result.sort_values(by='RFM_score', ascending=False)"
   ]
  },
  {
   "cell_type": "markdown",
   "id": "3296a274-78f5-4edf-aef3-cdcf3bef735e",
   "metadata": {},
   "source": [
    "# Бизнес-выводы и принятие решений"
   ]
  },
  {
   "cell_type": "markdown",
   "id": "23954200-82c6-4617-9c90-5bef63789261",
   "metadata": {},
   "source": [
    "Оценим величину групп пользователей, согласно RFM-анализа."
   ]
  },
  {
   "cell_type": "code",
   "execution_count": 20,
   "id": "25e73761-40d2-435a-95be-a1213dbff91a",
   "metadata": {},
   "outputs": [
    {
     "data": {
      "image/png": "[encoded data removed]",
      "text/plain": [
       "<Figure size 640x480 with 1 Axes>"
      ]
     },
     "metadata": {},
     "output_type": "display_data"
    }
   ],
   "source": [
    "rfm_bar = rfm_result['RFM_score'].value_counts(ascending=True)\n",
    "\n",
    "fig, axes = plt.subplots(1, 1)\n",
    "\n",
    "bars = axes.barh(rfm_bar.index, rfm_bar)\n",
    "axes.set_title('Величина групп пользователей')\n",
    "axes.bar_label(bars, fontsize=8)\n",
    "plt.show()"
   ]
  },
  {
   "cell_type": "markdown",
   "id": "a847d20a-4aba-4b5f-9914-d2dbf7c05f67",
   "metadata": {},
   "source": [
    "**Кто наши лучшие клиенты?**  \n",
    "Для данного сегмента рекомендуется отправить особое предложение, например приглашение в VIP-клуб лучших клиентов с соответствующими привелегиями.\n",
    "Сохраним ID указанных клиентов для дальнейшей рассылки уведомлений."
   ]
  },
  {
   "cell_type": "code",
   "execution_count": 21,
   "id": "c9974b50-d25d-45f9-bc1b-1443b8ef1485",
   "metadata": {},
   "outputs": [
    {
     "name": "stdout",
     "output_type": "stream",
     "text": [
      "Количество пользователей: 700\n",
      "Список пользователей сохранен в list_of_333.\n"
     ]
    }
   ],
   "source": [
    "print(f'Количество пользователей: {rfm_result[rfm_result['RFM_score'] == '333'].shape[0]}')\n",
    "list_of_333 = rfm_result[rfm_result['RFM_score'] == '333'].index.values\n",
    "print('Список пользователей сохранен в list_of_333.')"
   ]
  },
  {
   "cell_type": "markdown",
   "id": "cce6d160-2eb8-4f70-919b-35a597d5ff84",
   "metadata": {},
   "source": [
    "**Кто наши постоянные клиенты?**  \n",
    "Наши клиенты, которые стабильно совершают покупки, но при этом не являются VIP-клиентами. Для данного сегмента рекомендуется предпринять попытку увеличения среднего чека допродажей сопутствующих товаров или направить специальные предложения."
   ]
  },
  {
   "cell_type": "code",
   "execution_count": 22,
   "id": "cd7878cb-a943-4fc7-ad00-28f27248c1b0",
   "metadata": {},
   "outputs": [
    {
     "name": "stdout",
     "output_type": "stream",
     "text": [
      "Количество пользователей: 488\n",
      "Список пользователей сохранен в list_of_stable_cust.\n"
     ]
    }
   ],
   "source": [
    "print(f'Количество пользователей: {rfm_result[rfm_result['RFM_score'].isin(['321', '322','331', '332'])].shape[0]}')\n",
    "list_of_stable_cust = rfm_result[rfm_result['RFM_score'].isin(['321', '322','331', '332'])].index.values\n",
    "print('Список пользователей сохранен в list_of_stable_cust.')\n",
    "\n",
    "# Сегмент 323 - постоянные клиенты с высоким чеком - не стоит их утомлять лишними рассылками, направленными на повышение среднего чека"
   ]
  },
  {
   "cell_type": "markdown",
   "id": "c888bbff-160c-4ef9-b977-5b2849a2a3a9",
   "metadata": {},
   "source": [
    "**Работа с новичками**  \n",
    "Выявляем клиентов-новичков, которые недавно совершили первые покупки. Рекомендуется отправить welcome-цепочки и иные интересные предложения для удержания интереса"
   ]
  },
  {
   "cell_type": "code",
   "execution_count": 23,
   "id": "1fd7f9d5-3946-4468-8255-bd80a0345f0c",
   "metadata": {},
   "outputs": [
    {
     "name": "stdout",
     "output_type": "stream",
     "text": [
      "Количество пользователей: 207\n",
      "Список пользователей сохранен в list_of_new_cust.\n"
     ]
    }
   ],
   "source": [
    "print(f'Количество пользователей: {rfm_result[rfm_result['RFM_score'].isin(['311', '312','313'])].shape[0]}')\n",
    "list_of_new_cust = rfm_result[rfm_result['RFM_score'].isin(['311', '312','313'])].index.values\n",
    "print('Список пользователей сохранен в list_of_new_cust.')"
   ]
  },
  {
   "cell_type": "markdown",
   "id": "9603b7ff-04f4-4258-8813-29cc9a98601b",
   "metadata": {},
   "source": [
    "**Уходящие клиенты**  \n",
    "Клиенты, находящиеся на пороге оттока. Следует обязательно провести работу с данной категорией клиентов. Рекомендуется сбор обратной связи  \n",
    "для выявления причин оттока, проведение стимулирующих акций."
   ]
  },
  {
   "cell_type": "code",
   "execution_count": 24,
   "id": "68303e19-2eb6-462f-9769-613020b8ad56",
   "metadata": {},
   "outputs": [
    {
     "name": "stdout",
     "output_type": "stream",
     "text": [
      "Количество пользователей: 1477\n",
      "Список пользователей сохранен в list_of_lost.\n"
     ]
    }
   ],
   "source": [
    "print(f'Количество пользователей: {rfm_result[rfm_result['RFM_score'].isin(['121', '122','123', '211', '212', '213', '221', '222', \n",
    "                                                                            '223', '231', '222', '223'])].shape[0]}')\n",
    "list_of_lost = rfm_result[rfm_result['RFM_score'].isin(['121', '122','123', '211', '212', '213', '221', '222', '223', '231', '222', \n",
    "                                                            '223'])].index.values\n",
    "print('Список пользователей сохранен в list_of_lost.')"
   ]
  },
  {
   "cell_type": "markdown",
   "id": "9f5ab02a-5c98-4f82-9413-831a7dab67bb",
   "metadata": {},
   "source": [
    "**Уходящие постоянные**  \n",
    "Постоянные клиенты, находящиеся на пороге оттока, в том числе клиенты с высоким показателем Monetary - сумма потраченных денег. Крайне важно  \n",
    "направить реактивационные письма, собрать обратную связь, предложить программы лояльности, возможно, совершить личный звонок."
   ]
  },
  {
   "cell_type": "code",
   "execution_count": 25,
   "id": "12056b09-b88d-4c62-856d-f5bcbd0eceb5",
   "metadata": {},
   "outputs": [
    {
     "name": "stdout",
     "output_type": "stream",
     "text": [
      "Количество пользователей: 149\n",
      "Список пользователей сохранен в list_of_stable_lost.\n"
     ]
    }
   ],
   "source": [
    "print(f'Количество пользователей: {rfm_result[rfm_result['RFM_score'].isin(['131', '132', '133'])].shape[0]}')\n",
    "list_of_stable_lost = rfm_result[rfm_result['RFM_score'].isin(['131', '132', '133'])].index.values\n",
    "print('Список пользователей сохранен в list_of_stable_lost.')"
   ]
  },
  {
   "cell_type": "markdown",
   "id": "5603d902-4f7d-4e52-a79c-cdf73067688c",
   "metadata": {},
   "source": [
    "**Иные категории**  \n",
    "В зависимости от потребностей и особенностей бизнеса, возможно выделение дополнительных категорий, путем увеличения количества групп в каждом из параметров RFM. Существуют кейсы, в которых RFM предполагает 5 категорий, что позволяет более прицельно проводить маркетинговые методики для привлечения и удержания клиентов.  \n",
    "Кроме того, допустимо деление на категории не по квартилям, а с учетом неоднородности клиентской базы, основываясь на анализе данных, что позволит учесть особенности бизнеса и подстроить RFM-анализ под актуальные требования и цели."
   ]
  },
  {
   "cell_type": "markdown",
   "id": "a5016c09-65a9-4fd2-80f1-95ba3e2c9fea",
   "metadata": {},
   "source": [
    "## Вывод\n",
    "RFM-анализ - мощный инструмент для понимания клиентской базы и проведения маркетинговой стратегии. Это позволяет более эффективно настраивать маркетинговые кампании и увеличивать прибыльность."
   ]
  }
 ],
 "metadata": {
  "kernelspec": {
   "display_name": "Python 3 (ipykernel)",
   "language": "python",
   "name": "python3"
  },
  "language_info": {
   "codemirror_mode": {
    "name": "ipython",
    "version": 3
   },
   "file_extension": ".py",
   "mimetype": "text/x-python",
   "name": "python",
   "nbconvert_exporter": "python",
   "pygments_lexer": "ipython3",
   "version": "3.12.2"
  }
 },
 "nbformat": 4,
 "nbformat_minor": 5
}
